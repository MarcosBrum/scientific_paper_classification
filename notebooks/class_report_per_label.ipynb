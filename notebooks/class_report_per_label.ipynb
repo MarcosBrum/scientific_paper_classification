{
 "cells": [
  {
   "cell_type": "markdown",
   "metadata": {},
   "source": [
    "# 0 Imports"
   ]
  },
  {
   "cell_type": "markdown",
   "metadata": {},
   "source": [
    "## 0.1 Modules and Packages"
   ]
  },
  {
   "cell_type": "code",
   "execution_count": 1,
   "metadata": {},
   "outputs": [],
   "source": [
    "import sys\n",
    "from os.path import join\n",
    "\n",
    "import numpy as np\n",
    "\n",
    "sys.path.append(\"../\")\n",
    "from source.utils import CATEGORIES, MODELS_PATH"
   ]
  },
  {
   "cell_type": "markdown",
   "metadata": {},
   "source": [
    "# 1 Classification reports"
   ]
  },
  {
   "cell_type": "code",
   "execution_count": 2,
   "metadata": {},
   "outputs": [],
   "source": [
    "with open(join(MODELS_PATH, \"multilabel_confusion_matrix.npy\"), \"rb\") as f:\n",
    "    confusion_matrices = np.load(f)"
   ]
  },
  {
   "cell_type": "code",
   "execution_count": 3,
   "metadata": {},
   "outputs": [
    {
     "name": "stdout",
     "output_type": "stream",
     "text": [
      "========== Classification for label Artificial Intelligence ==========\n",
      "precision = 0.43\n",
      "recall = 0.55\n",
      "f1_score = 0.48\n",
      "========== Classification for label Machine Learning ==========\n",
      "precision = 0.69\n",
      "recall = 0.69\n",
      "f1_score = 0.69\n"
     ]
    }
   ],
   "source": [
    "map_categories = dict([(\"cs.AI\", \"Artificial Intelligence\"), (\"cs.LG\", \"Machine Learning\")])\n",
    "\n",
    "for cat_code, conf_mt in zip(CATEGORIES, confusion_matrices):\n",
    "    tp = conf_mt[0][0]\n",
    "    fn = conf_mt[0][1]\n",
    "    fp = conf_mt[1][0]\n",
    "    tn = conf_mt[1][1]\n",
    "\n",
    "    precision = round(tp/(tp + fn), 2)\n",
    "    recall = round(tp/(tp + fp), 2)\n",
    "    f1_score = round(2*tp/(2*tp + fp + fn), 2)\n",
    "\n",
    "    category = map_categories.get(cat_code, \"\")\n",
    "\n",
    "    print(\"=\"*10 + f\" Classification for label {category} \" + \"=\"*10)\n",
    "    print(f\"{precision = }\")\n",
    "    print(f\"{recall = }\")\n",
    "    print(f\"{f1_score = }\")"
   ]
  }
 ],
 "metadata": {
  "kernelspec": {
   "display_name": "venv",
   "language": "python",
   "name": "python3"
  },
  "language_info": {
   "codemirror_mode": {
    "name": "ipython",
    "version": 3
   },
   "file_extension": ".py",
   "mimetype": "text/x-python",
   "name": "python",
   "nbconvert_exporter": "python",
   "pygments_lexer": "ipython3",
   "version": "3.9.18"
  }
 },
 "nbformat": 4,
 "nbformat_minor": 2
}
